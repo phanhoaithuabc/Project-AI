{
  "nbformat": 4,
  "nbformat_minor": 0,
  "metadata": {
    "colab": {
      "name": "3_Softmax_Regression.ipynb",
      "provenance": [],
      "collapsed_sections": []
    },
    "kernelspec": {
      "name": "python3",
      "display_name": "Python 3"
    }
  },
  "cells": [
    {
      "cell_type": "markdown",
      "metadata": {
        "id": "E2Jo5LjHPCwl",
        "colab_type": "text"
      },
      "source": [
        "# Bài tập về nhà 3: Softmax Regression\n",
        "\n",
        "Trong bài tập này, các bạn sẽ sử dụng kiến thức đã học về softmax regression để giải quyết bài toán phân loại nhiều lớp, cụ thể là 10 lớp (áo, quần, giày dép, ....) từ bộ dữ liệu [Fashion-MNIST](https://github.com/zalandoresearch/fashion-mnist)."
      ]
    },
    {
      "cell_type": "markdown",
      "metadata": {
        "id": "Q0WnQpFvV1uH",
        "colab_type": "text"
      },
      "source": [
        "## Giới thiệu\n",
        "Để hoàn tất bài tập này, các bạn cần nắm rõ những kiến thức sau:\n",
        "* Softmax Regression\n",
        "* Cách lấy đạo hàm cho các tham số trong mô hình trên.\n",
        "* Giải thuật gradient descent.\n",
        "\n",
        "Bạn có thể tham khảo lại bài giảng để nắm vững các nội dung này. Ngoài ra, các bạn có thể đặt câu hỏi cho đội ngũ giảng viên nếu có thắc mắc.\n",
        "\n",
        "Bạn cần giải quyết bài tập này bằng cả **numpy** và **Tensorflow**.\n",
        "\n",
        "*Lưu ý: để tiện cho việc phân biệt giữa lớp python và lớp trong bài toán phân loại, người viết quy ước rằng khi viết **class** nghĩa là đang nói về python class, khi viết **lớp** nghĩa là đang nói đến lớp của dữ liệu cần phân loại."
      ]
    },
    {
      "cell_type": "markdown",
      "metadata": {
        "id": "beP2NTIcWc2e",
        "colab_type": "text"
      },
      "source": [
        "## Hướng dẫn nộp bài\n",
        "Ở mỗi bài tập, các bạn sẽ được yêu cầu điền phần còn thiếu vào trong hàm, các cell để thực hiện phần bài làm sẽ có dòng đầu tiên như sau:\n",
        "```python\n",
        "# GRADED FUNCTION: <tên hàm>\n",
        "...\n",
        "```\n",
        "Trong cell đó, các bạn sẽ code phần đáp án của mình giữa 2 phần:\n",
        "```python\n",
        "### START CODE HERE ###\n",
        "<phần bài làm>\n",
        "### END CODE HERE ###\n",
        "```\n",
        "Sau khi thực hiện xong bạn từ terminal, bạn chạy file `submit.py` để nộp bài tập.\n",
        "```\n",
        "python submit.py -filepath <PATH_ĐẾN_FILE_BÀI_LÀM_CỦA_BẠN>\n",
        "```\n",
        "Mặc định `-filepath` là `3_Softmax_Regression.ipynb`. Nếu bạn không thay đổi tên hoặc vị trí file bài tập. Bạn có thể đơn giản gọi dòng lệnh sau để nộp bài:\n",
        "```\n",
        "python submit.py\n",
        "```\n",
        "Sau khi chạy dòng lệnh trên, vui lòng điền `username` và `password`, bạn sẽ nhận được kết quả trả về cho bài làm của bạn."
      ]
    },
    {
      "cell_type": "markdown",
      "metadata": {
        "id": "X7aYjoAWXu9t",
        "colab_type": "text"
      },
      "source": [
        "## IMPORT CÁC THƯ VIỆN CẦN THIẾT\n",
        "Nếu chạy trên máy tính cá nhân, trước hết bạn cần install các thư viện cần thiết bằng cách chạy dòng lệnh sau trong terminal:\n",
        "```\n",
        "pip install -r requirements.txt\n",
        "```\n",
        "Nếu bạn chạy trên nền tảng Google Colab, bạn có thể bổ qua bước trên."
      ]
    },
    {
      "cell_type": "code",
      "metadata": {
        "id": "neGnxsHDO8Fu",
        "colab_type": "code",
        "colab": {}
      },
      "source": [
        "# IMPORT\n",
        "import numpy as np\n",
        "import gzip\n",
        "import matplotlib.pyplot as plt\n",
        "import tensorflow as tf"
      ],
      "execution_count": null,
      "outputs": []
    },
    {
      "cell_type": "markdown",
      "metadata": {
        "id": "3DQ_YhCQX32D",
        "colab_type": "text"
      },
      "source": [
        "## Tải dữ liệu\n",
        "Các bạn chạy cell bên dưới để tải bộ dữ liệu cũng như các hàm dùng để test cách cài đặt của các bạn:"
      ]
    },
    {
      "cell_type": "code",
      "metadata": {
        "id": "jxvIONdhX8tn",
        "colab_type": "code",
        "colab": {
          "base_uri": "https://localhost:8080/",
          "height": 51
        },
        "outputId": "ce5da57c-f7e3-48bf-97cc-fb35accea716"
      },
      "source": [
        "from google_drive_downloader import GoogleDriveDownloader as gdd\n",
        "gdd.download_file_from_google_drive(file_id='1umcIzISPX2FhMT3OBg-Io7LninG7Hste', dest_path='./assignment3.zip', unzip=True)\n",
        "!rm assignment3.zip"
      ],
      "execution_count": null,
      "outputs": [
        {
          "output_type": "stream",
          "text": [
            "Downloading 1umcIzISPX2FhMT3OBg-Io7LninG7Hste into ./assignment3.zip... Done.\n",
            "Unzipping...Done.\n"
          ],
          "name": "stdout"
        }
      ]
    },
    {
      "cell_type": "markdown",
      "metadata": {
        "id": "R168PMadYQFU",
        "colab_type": "text"
      },
      "source": [
        "Dữ liệu tải xuống của bạn bao gồm:\n",
        "\n",
        "* Folder `fashion-mnist`: chứa 4 zip files dữ liệu.\n",
        "* File softmax_unittest.npy: được dùng để kiểm tra một số hàm mà bạn cài đặt."
      ]
    },
    {
      "cell_type": "code",
      "metadata": {
        "id": "cqAxrUEiYMcP",
        "colab_type": "code",
        "colab": {
          "base_uri": "https://localhost:8080/",
          "height": 34
        },
        "outputId": "e347498b-efd5-45d1-bd4b-fc67612a6b99"
      },
      "source": [
        "!ls assignment3"
      ],
      "execution_count": null,
      "outputs": [
        {
          "output_type": "stream",
          "text": [
            "fashion-mnist  softmax_unittest.npy\n"
          ],
          "name": "stdout"
        }
      ]
    },
    {
      "cell_type": "markdown",
      "metadata": {
        "id": "TmmCYM_PZBOo",
        "colab_type": "text"
      },
      "source": [
        "## Các hàm bổ trợ dùng để đọc dữ liệu\n",
        "Nhóm TA sẽ giúp bạn định nghĩa các hàm bổ trợ trong việc đọc dữ liệu, các bạn không cần chỉnh sửa những hàm này."
      ]
    },
    {
      "cell_type": "code",
      "metadata": {
        "id": "YdHIzttSYejU",
        "colab_type": "code",
        "colab": {}
      },
      "source": [
        "\"\"\"\n",
        "These functions help you read data from data files.\n",
        "Author: Kien Huynh\n",
        "\"\"\"\n",
        "\n",
        "def read_mnist_gz(data_path, offset):\n",
        "    with gzip.open(data_path, 'rb') as f:\n",
        "        dataset = np.frombuffer(f.read(), dtype=np.uint8, offset=offset)\n",
        "\n",
        "    return dataset\n",
        "\n",
        "\n",
        "def get_mnist_data(sampling_step=20):\n",
        "    print('Reading fashion MNIST data...')\n",
        "    train_x = read_mnist_gz('./assignment3/fashion-mnist/train-images-idx3-ubyte.gz', 16)\n",
        "    train_y = read_mnist_gz('./assignment3/fashion-mnist/train-labels-idx1-ubyte.gz', 8)\n",
        "    test_x = read_mnist_gz('./assignment3/fashion-mnist/t10k-images-idx3-ubyte.gz', 16)\n",
        "    test_y = read_mnist_gz('./assignment3/fashion-mnist/t10k-labels-idx1-ubyte.gz', 8)\n",
        "    num_train = len(train_y)\n",
        "    num_test = len(test_y)\n",
        "\n",
        "    train_x = train_x.reshape((num_train, 28*28))\n",
        "    test_x = test_x.reshape((num_test, 28*28))\n",
        "\n",
        "    val_x = train_x[50000:,:]\n",
        "    val_y = train_y[50000:]\n",
        "    train_x = train_x[:50000,:]\n",
        "    train_y = train_y[:50000]\n",
        "\n",
        "    train_x = train_x[0::sampling_step,:]\n",
        "    train_y = train_y[0::sampling_step]\n",
        "    val_x = val_x[0::sampling_step,:]\n",
        "    val_y = val_y[0::sampling_step]\n",
        "    test_x = test_x[0::sampling_step,:]\n",
        "    test_y = test_y[0::sampling_step]\n",
        "    return train_x.astype(np.float32), train_y, val_x.astype(np.float32), val_y, test_x.astype(np.float32), test_y\n",
        "\n",
        "def get_side(img, side_type, n = 5):\n",
        "    h, w = img.shape\n",
        "    if side_type == \"horizontal\":\n",
        "        return np.ones((h,n))\n",
        "    return np.ones((n,w))\n",
        "\n",
        "def show_gallery(ims,n=5, shuffle=True):\n",
        "    images = []\n",
        "    vertical_images = []\n",
        "    if shuffle:\n",
        "        np.random.shuffle(ims)\n",
        "    vertical_images = []\n",
        "    for i in range(n*n):\n",
        "        img = ims[i].reshape(28,28)\n",
        "        hside = get_side(img,side_type=\"horizontal\")\n",
        "        images.append(img)\n",
        "        images.append(hside)\n",
        "        \n",
        "        if (i+1) % n == 0:\n",
        "            himage=np.hstack((images))\n",
        "            vside = get_side(himage, side_type=\"vertical\")\n",
        "            vertical_images.append(himage)\n",
        "            vertical_images.append(vside)\n",
        "            \n",
        "            images = []\n",
        "        \n",
        "    gallery = np.vstack((vertical_images))\n",
        "    plt.figure(figsize=(20,20))\n",
        "    plt.axis(\"off\")\n",
        "    plt.imshow(gallery.astype(np.uint8), cmap=\"gray\")\n",
        "    plt.show()\n",
        "\n",
        "def add_one(x):\n",
        "    \"\"\"add_one\n",
        "    This function add ones as an additional feature for x.\n",
        "\n",
        "    :param x: input data\n",
        "    \"\"\"\n",
        "    x = np.concatenate((x, np.ones((x.shape[0], 1))), axis=1)\n",
        "    return x\n",
        "\n",
        "def create_one_hot(labels, num_k=10):\n",
        "    \"\"\"create_one_hot\n",
        "    This function creates a one-hot (one-of-k) matrix based on the given labels\n",
        "\n",
        "    :param labels: list of labels, each label is one of 0, 1, 2,... , num_k - 1\n",
        "    :param num_k: number of classes we want to classify\n",
        "    \"\"\"\n",
        "    eye_mat = np.eye(num_k)\n",
        "    eye_mat = eye_mat[labels, :].astype(np.float32)\n",
        "    return eye_mat"
      ],
      "execution_count": null,
      "outputs": []
    },
    {
      "cell_type": "markdown",
      "metadata": {
        "id": "x7faKD0KcExg",
        "colab_type": "text"
      },
      "source": [
        "## Dữ liệu fashion MNIST\n",
        "\n",
        "Ta có thể đọc tập dữ liệu này bằng hàm `get_mnist_data()`:"
      ]
    },
    {
      "cell_type": "code",
      "metadata": {
        "id": "LC6Ak0zJbFao",
        "colab_type": "code",
        "colab": {
          "base_uri": "https://localhost:8080/",
          "height": 34
        },
        "outputId": "5bac8a69-0a98-466a-d3a9-a9f7ced58bff"
      },
      "source": [
        "train_x, train_y, val_x, val_y, test_x, test_y = get_mnist_data()"
      ],
      "execution_count": null,
      "outputs": [
        {
          "output_type": "stream",
          "text": [
            "Reading fashion MNIST data...\n"
          ],
          "name": "stdout"
        }
      ]
    },
    {
      "cell_type": "markdown",
      "metadata": {
        "id": "aMzhxHDLckdE",
        "colab_type": "text"
      },
      "source": [
        "Tập dữ liệu này gồm các ảnh xám kích thước $28 \\times 28$. Có tất cả 50000 ảnh train, 10000 ảnh validation và 10000 ảnh test. Mỗi ảnh thuộc một trong 10 loại quần, áo, giày, túi xách, v.v. Tuy nhiên trong bài tập này ta chỉ lấy 2500 ảnh train, 500 ảnh validation và 500 ảnh test."
      ]
    },
    {
      "cell_type": "code",
      "metadata": {
        "id": "SNkMzye4cJd-",
        "colab_type": "code",
        "colab": {
          "base_uri": "https://localhost:8080/",
          "height": 119
        },
        "outputId": "5a79877c-f689-4a8c-878a-9bd2789b3829"
      },
      "source": [
        "print(\"train_x: \" ,train_x.shape)\n",
        "print(\"train_y: \", train_y.shape)\n",
        "print(\"val_x:   \", val_x.shape)\n",
        "print(\"val_y:   \", val_y.shape)\n",
        "print(\"test_x:  \", test_x.shape)\n",
        "print(\"test_y:  \", test_y.shape)"
      ],
      "execution_count": null,
      "outputs": [
        {
          "output_type": "stream",
          "text": [
            "train_x:  (2500, 784)\n",
            "train_y:  (2500,)\n",
            "val_x:    (500, 784)\n",
            "val_y:    (500,)\n",
            "test_x:   (500, 784)\n",
            "test_y:   (500,)\n"
          ],
          "name": "stdout"
        }
      ]
    },
    {
      "cell_type": "code",
      "metadata": {
        "id": "IG34oOahc4oB",
        "colab_type": "code",
        "colab": {
          "base_uri": "https://localhost:8080/",
          "height": 1000
        },
        "outputId": "12e5bf4e-dd74-46ca-eb32-30b9118c3f76"
      },
      "source": [
        "show_gallery(train_x, n=5, shuffle=True)"
      ],
      "execution_count": null,
      "outputs": [
        {
          "output_type": "display_data",
          "data": {
            "image/png": "[encoded data removed]",
            "text/plain": [
              "<Figure size 1440x1440 with 1 Axes>"
            ]
          },
          "metadata": {
            "tags": [],
            "needs_background": "light"
          }
        }
      ]
    },
    {
      "cell_type": "markdown",
      "metadata": {
        "id": "tLRR_U2-hiSz",
        "colab_type": "text"
      },
      "source": [
        "Giá trị của `train_y` và `test_y` có thể là 0, 1, ..., 9 thay vì là 0 và 1 như bài 2 (Logistic Regression). Ngoài ra, dữ liệu ảnh khi được đọc lên sẽ có dạng tensor 2D (3500x784)."
      ]
    },
    {
      "cell_type": "markdown",
      "metadata": {
        "id": "Wae6pJjxk1H8",
        "colab_type": "text"
      },
      "source": [
        "## Chuẩn hóa dữ liệu\n",
        "Trong bước này, ta sẽ chuẩn hóa dữ liệu `train_x`, `val_x` và `test_x` theo cách xem các pixel khác nhau trong ảnh là cùng 1 loại đặc trưng (như đã đề cập trong bài tập Logistic Regression).\n",
        "\n",
        "\\begin{equation}\n",
        "\\overline{x} = \\frac{1}{mRC}\\sum_{i=0}^{m-1}{\\sum_{r=0}^{R-1}{\\sum_{c=0}^{C-1}{x_{rc}^{(i)}}}} \\tag{3}\n",
        "\\end{equation}\n",
        "\n",
        "\\begin{equation}\n",
        "\\sigma=\\sqrt{\\frac{1}{mRC}\\sum_{i=0}^{m-1}{\\sum_{r=0}^{R-1}{\\sum_{c=0}^{C-1}{(x_{rc}^{(i)}-\\overline{x})^2}}}} \\tag{4}\n",
        "\\end{equation}\n",
        "\n",
        "Sau khi có được mean và std trên toàn bộ data huấn luyện, ta chuẩn hóa các mẫu trong tập huấn luyện theo cách sau:\n",
        "\n",
        "\\begin{equation}\n",
        "x^{(i)} = \\frac{x^{(i)}-\\overline{x}}{\\sigma} \\tag{5}\n",
        "\\end{equation} \n",
        "\n",
        "Tuy nhiên, do tập dữ liệu MNIST khi load đã được đặt dưới dạng tensor 2D, nên trong công thức tính tổng chỉ còn $m$ và $R=784$."
      ]
    },
    {
      "cell_type": "markdown",
      "metadata": {
        "id": "psktAn-TlprH",
        "colab_type": "text"
      },
      "source": [
        "### TODO 1: normalize (10)"
      ]
    },
    {
      "cell_type": "code",
      "metadata": {
        "id": "xw3ozUKnltJj",
        "colab_type": "code",
        "colab": {}
      },
      "source": [
        "# GRADED FUNCTION: normalize\n",
        "def normalize(train_x, val_x, test_x):\n",
        "    \"\"\"TODO 1: normalize\n",
        "    This function computes the mean and standard deviation of all pixels and performs data scaling on train_x, val_x and test_x using these computed values.\n",
        "    Note that in this classification problem, the shape of the data is (num_samples, image_width * image_height).\n",
        "\n",
        "    :param train_x: train images, shape=(num_train, image_height * image_width)\n",
        "    :param val_x: validation images, shape=(num_val, image_height * image_width)\n",
        "    :param test_x: test images, shape=(num_test, image_height * image_width)\n",
        "    \"\"\"\n",
        "    # The shape of train_mean and train_std should be (1, 1)\n",
        "    ### START CODE HERE ### (≈5 lines)\n",
        "    train_mean = np.mean(train_x, axis=(0,1), dtype=np.float64, keepdims=True)\n",
        "    train_std = np.std(train_x, axis=(0,1), dtype=np.float64, keepdims=True)\n",
        "    train_x = (train_x-train_mean)/train_std\n",
        "    val_x = (val_x-train_mean)/train_std\n",
        "    test_x = (test_x-train_mean)/train_std\n",
        "    ### END CODE HERE ###\n",
        "    return train_x, val_x, test_x"
      ],
      "execution_count": null,
      "outputs": []
    },
    {
      "cell_type": "code",
      "metadata": {
        "id": "A6kMQHATlzG9",
        "colab_type": "code",
        "colab": {}
      },
      "source": [
        "### SANITY CHECK\n",
        "train_x = np.arange(2*4).reshape(2, 4)\n",
        "x, y, z = normalize(train_x, train_x, train_x)\n",
        "assert np.sum((x, y, z)) == 0, \"Wrong\""
      ],
      "execution_count": null,
      "outputs": []
    },
    {
      "cell_type": "markdown",
      "metadata": {
        "id": "yezgW0-3mDjA",
        "colab_type": "text"
      },
      "source": [
        "## Tiền xử lý vector label thành dạng one-hot\n",
        "\n",
        "Các biến `train_y`, `val_y`, `test_y` lúc này là một vector chứa các giá trị 0, 1, ..., 9; nhưng để tính hàm lỗi của softmax regression, ta nên chuyển chúng về dạng ma trận one-hot (one-of-k). Giả sử ta có vector label có 6 phần tử, mỗi phần tử nằm trong khoảng từ 0 đến 4:\n",
        "\n",
        "\\begin{equation}\n",
        "\ty = [3,4,0,0,2,1]^T \\tag{17}\n",
        "\\end{equation}\n",
        "\n",
        "Ta sẽ có biến đổi one-hot tương ứng của nó là:\n",
        "\\begin{equation}\n",
        "y = \\begin{bmatrix}\n",
        "\t0 & 0 & 0 & \\color{red}1 & 0\\\\\n",
        "\t0 & 0 & 0 & 0 & \\color{red}1\\\\\n",
        "\t\\color{red}1 & 0 & 0 & 0 & 0\\\\\n",
        "\t\\color{red}1 & 0 & 0 & 0 & 0\\\\\n",
        "\t0 & 0 & \\color{red}1 & 0 & 0\\\\\n",
        "\t0 & \\color{red}1 & 0 & 0 & 0\n",
        "\\end{bmatrix} \\tag{18}\n",
        "\\end{equation}\n",
        "\n",
        "Label thứ nhất có giá trị là 3, vì vậy nên trong hàng thứ nhất ở ma trận trên cột 3 có giá trị 1, tất cả các cột khác trong hàng này là 0. Tương tự cho hàng thứ 2, label là 4, nên cột 4 trong hàng 2 có giá trị là 1.\n",
        "\n",
        "\n",
        "Để việc biến đổi giá trị của mảng sang dạng one-hot được nhanh chóng, ta nên sử dụng index array hay index vector trên ma trận đơn vị. Tham khảo thêm ở đây: [Numpy basic indexing - Index arrays](https://docs.scipy.org/doc/numpy-1.13.0/user/basics.indexing.html#index-arrays)."
      ]
    },
    {
      "cell_type": "markdown",
      "metadata": {
        "id": "Y0pRUu8vmTGv",
        "colab_type": "text"
      },
      "source": [
        "## Tính các giá trị phân loại\n",
        "\n",
        "Để tính các giá trị phân loại trong bài này, ta hiện thực các công thức sau trong hàm `feed_forward` và `softmax`:\n",
        "\n",
        "\\begin{equation}\n",
        "z = xw \\space, \\quad x \\in R^{m\\times D}, w \\in R^{D \\times K} \\tag{19}\n",
        "\\end{equation}\n",
        "\n",
        "Trong đó, $m$ là số lượng mẫu dữ liệu, $D$ là số lượng đặc trưng của dữ liệu đầu vào (785 sau khi thêm 1 vào cuối), $K$ là số lượng nhãn trong bài toán ta đang làm (10).\n",
        "\n",
        "\\begin{equation}\n",
        "z_{max} = [max(z^{(0)}), max(z^{(1)}),.., max(z^{(m-1)})]^T  \\tag{20}\n",
        "\\end{equation}\n",
        "\n",
        "Tại đây, $z_{max}$ là một vector cột (kích thước $m \\times 1$).\n",
        "\n",
        "\\begin{equation}\n",
        "z' = e^{z - z_{max}} \\tag{21}\n",
        "\\end{equation}\n",
        "\n",
        "Trong biểu thức trên, ta sẽ dùng cột thứ nhất của $z$ trừ cho $z_{max}$, cột thứ 2 của $z$ trừ cho $z_{max}$, v.v. Sau đó, ta tính lũy thừa cho từng phần tử trên hiệu đã tính. Kết quả tại bước này là một ma trận $z'$ có kích thước $m \\times K$.\n",
        "\n",
        "Kế tiếp, ta cần tính tổng sau:\n",
        "\n",
        "\\begin{equation}\n",
        "s = \\sum^{K-1}_{k=0}z'^{(i)}_{k} ,\\quad 0\\le i \\le m-1\\tag{22}\n",
        "\\end{equation}\n",
        "\n",
        "Như vậy, $s$ sẽ là vector chứa tổng từng hàng của ma trận $z'$. $s$ có kích thước $m \\times 1$. Sau cùng, ta có thể tính softmax bằng cách lấy mỗi phần tử trong $z'$ chia cho tổng hàng tương ứng:\n",
        "\n",
        "\\begin{equation}\n",
        "\\hat{y}^{(i)}_{k} = \\frac{z'^{(i)}_{k}}{s^{(i)}}, \\quad 0\\le i \\le m-1, 0\\le k \\le K-1 \\tag{23}\n",
        "\\end{equation}\n",
        "\n",
        "Sau khi tổng hợp lại toàn bộ các phần tử $i, k$ của $\\hat{y}$, ta sẽ có ma trận có kích thước $m \\times K$. Trong ma trận này, mỗi hàng thứ $i$ biểu diễn vector xác suất lớp của mẫu ảnh thứ $i$. Vì vậy, tổng của mỗi hàng luôn bằng 1."
      ]
    },
    {
      "cell_type": "markdown",
      "metadata": {
        "id": "sHmpJu5xiMWD",
        "colab_type": "text"
      },
      "source": [
        "## Class SoftmaxClassifier với numpy\n",
        "\n",
        "Tương tự như class `LogisticClassifier` đã cài đặt ở bài trước, class SoftmaxClassifier cần được khởi tạo trọng số `w` và có thể sử dụng lại hàm `update_weight` của class `LogisticClassifier`."
      ]
    },
    {
      "cell_type": "code",
      "metadata": {
        "id": "bSDXPiuWfgxW",
        "colab_type": "code",
        "colab": {}
      },
      "source": [
        "# GRADED FUNCTION\n",
        "class SoftmaxClassifier(object):\n",
        "    def __init__(self, w_shape):\n",
        "        \"\"\"__init__\n",
        "        \n",
        "        :param w_shape: create w with shape w_shape using normal distribution\n",
        "        \"\"\"\n",
        "        self.w = np.random.normal(0, np.sqrt(2./np.sum(w_shape)), w_shape)\n",
        "\n",
        "\n",
        "    def softmax(self, x):\n",
        "        \"\"\"TODO 2: softmax\n",
        "\n",
        "        :param x: input\n",
        "        \"\"\"\n",
        "        result = None\n",
        "        ### START CODE HERE ### (≈4 lines)\n",
        "        max_x = np.max(x, axis=1, keepdims=True)\n",
        "        x -= max_x\n",
        "        x_exp = np.exp(x)\n",
        "        result = x_exp / np.sum(x_exp, axis=1, keepdims=True)\n",
        "        \n",
        "        ### END CODE HERE ###\n",
        "        return result\n",
        "\n",
        "\n",
        "    def feed_forward(self, x):\n",
        "        \"\"\"TODO 3: feed_forward\n",
        "        This function computes the output of your softmax regression model\n",
        "        \n",
        "        :param x: input\n",
        "        \"\"\"\n",
        "        result = None\n",
        "        ### START CODE HERE ### (≈2 lines)\n",
        "        x_out = np.dot(x, self.w)\n",
        "        result = self.softmax(x_out)\n",
        "        ### END CODE HERE ###\n",
        "        return result\n",
        "\n",
        "\n",
        "    def compute_loss(self, y, y_hat):\n",
        "        \"\"\"TODO 4: compute_loss\n",
        "        Compute the loss using y (label) and y_hat (predicted class)\n",
        "\n",
        "        :param y:  the label, the actual class of the sample data\n",
        "        :param y_hat: the classifying probabilities of all sample data\n",
        "        \"\"\"\n",
        "        loss = 0\n",
        "        ### START CODE HERE ### (≈3 lines)\n",
        "        loss = -np.log(y_hat) \n",
        "        loss = np.sum(loss*y, axis=1)\n",
        "        loss = np.mean(loss)\n",
        "        ### END CODE HERE ###\n",
        "        return loss\n",
        "\n",
        "\n",
        "    def get_grad(self, x, y, y_hat):\n",
        "        \"\"\"TODO 5: get_grad\n",
        "        Compute and return the gradient of w\n",
        "\n",
        "        :param loss: computed loss between y_hat and y in the train dataset\n",
        "        :param y_hat: predicted y\n",
        "        \"\"\" \n",
        "        w_grad = None\n",
        "        ### START CODE HERE ### (≈2 lines)\n",
        "        num_x = x.shape[0]\n",
        "        w_grad = np.dot(x.T, -(y - y_hat))/num_x\n",
        "        ### END CODE HERE ###\n",
        "        return w_grad\n",
        "   \n",
        "\n",
        "    def update_weight(self, grad, learning_rate):\n",
        "        \"\"\"update_weight\n",
        "        Update w using the computed gradient.\n",
        "\n",
        "        :param grad: gradient computed from the loss\n",
        "        :param learning_rate: float, learning rate\n",
        "        \"\"\"\n",
        "        self.w = self.w - learning_rate*grad \n",
        "        return self.w\n",
        "\n",
        "\n",
        "    def update_weight_momentum(self, grad, learning_rate, momentum, momentum_rate):\n",
        "        \"\"\"update_weight using momentum\n",
        "        BONUS:[YC1.8]\n",
        "        Update w using the algorithm with momentum\n",
        "\n",
        "        :param grad: gradient computed from the loss\n",
        "        :param learning_rate: float, learning rate\n",
        "        :param momentum: the array storing momentum for training w, should have the same shape as that of w\n",
        "        :param momentum_rate: float, how much momentum to reuse after each loop (denoted as gamma in the following section)\n",
        "        \"\"\"\n",
        "        momentum *= momentum_rate\n",
        "        momentum += learning_rate*grad\n",
        "        self.w = self.w - momentum\n",
        "        return self.w\n",
        "    \n",
        "    def numerical_check(self, x, y, grad):\n",
        "        i = 3\n",
        "        j = 0\n",
        "        eps = 0.000005\n",
        "        w_test0 = np.copy(self.w)\n",
        "        w_test1 = np.copy(self.w)\n",
        "        w_test0[i,j] = w_test0[i,j] - eps\n",
        "        w_test1[i,j] = w_test1[i,j] + eps\n",
        "\n",
        "        y_hat0 = np.dot(x, w_test0)\n",
        "        y_hat0 = self.softmax(y_hat0)\n",
        "        loss0 = self.compute_loss(y, y_hat0) \n",
        "\n",
        "        y_hat1 = np.dot(x, w_test1)\n",
        "        y_hat1 = self.softmax(y_hat1)\n",
        "        loss1 = self.compute_loss(y, y_hat1) \n",
        "\n",
        "        numerical_grad = (loss1 - loss0)/(2*eps)\n",
        "        print(numerical_grad)\n",
        "        print(grad[i,j])"
      ],
      "execution_count": null,
      "outputs": []
    },
    {
      "cell_type": "code",
      "metadata": {
        "id": "WBaqaYrjinaY",
        "colab_type": "code",
        "colab": {}
      },
      "source": [
        "### SANITY CHECK\n",
        "eps = 0.001        \n",
        "classifier = SoftmaxClassifier((3,1))\n",
        "classifier.w = np.arange(3*1).reshape(3,1)\n",
        "x = np.ones(2*3).reshape(2,3)/2\n",
        "y = 0\n",
        "y_hat = classifier.feed_forward(x)\n",
        "assert sum(y_hat)==2, \"Wrong\"\n",
        "loss = classifier.compute_loss(y, y_hat)\n",
        "assert loss==0, \"Wrong\"\n",
        "grad = classifier.get_grad(x, y, y_hat)\n",
        "assert sum(grad)==1.5, \"Wrong\"\n",
        "updateweight = classifier.update_weight(grad, 0.1)\n",
        "assert sum(updateweight) - 2.849 < eps, \"Wrong\"\n",
        "updatemomen = classifier.update_weight_momentum(grad, 0.1, 0.1, 0.1)\n",
        "assert sum(updatemomen) - 2.67 < eps, \"Wrong\""
      ],
      "execution_count": null,
      "outputs": []
    },
    {
      "cell_type": "markdown",
      "metadata": {
        "id": "by39evlbmaA_",
        "colab_type": "text"
      },
      "source": [
        "### TODO 2: feed_forward (10)\n",
        "Các bạn hoàn thành hàm `feed_forward` ở phần class SoftmaxClassifier."
      ]
    },
    {
      "cell_type": "markdown",
      "metadata": {
        "id": "1NaAn4ixmzWs",
        "colab_type": "text"
      },
      "source": [
        "### TODO 3: softmax (10)\n",
        "Các bạn hoàn thành hàm `softmax` ở phần class SoftmaxClassifier."
      ]
    },
    {
      "cell_type": "markdown",
      "metadata": {
        "id": "gD5HWyPsm2Kj",
        "colab_type": "text"
      },
      "source": [
        "### Tính độ lỗi\n",
        "Công thức tính độ lỗi category như sau:\n",
        "\n",
        "\\begin{equation}\n",
        "J(w) = -\\frac{1}{m}\\sum_{i=0}^{m-1}\\sum_{k=0}^{K-1} y^{(i)}_k \\log\\hat{y}^{(i)}_k \\tag{24}\n",
        "\\end{equation}\n",
        "\n",
        "Trong đó:\n",
        "- $y^{(i)}_k$ là phần tử hàng $i$ cột $k$ trong ma trận nhãn one-hot $y$ (đã đề cập trong phần trước).\n",
        "- $\\hat{y}^{(i)} \\in (0, 1)$ là hàng $i$ cột $k$ trong ma trận $\\hat{y}$."
      ]
    },
    {
      "cell_type": "markdown",
      "metadata": {
        "id": "6Tp444EjtdJ6",
        "colab_type": "text"
      },
      "source": [
        "#### TODO 4: compute_loss (10)\n",
        "Các bạn hoàn thành hàm `compute_loss` ở phần class SoftmaxClassifier."
      ]
    },
    {
      "cell_type": "markdown",
      "metadata": {
        "id": "m2JO5yQunwNB",
        "colab_type": "text"
      },
      "source": [
        "## Tính đạo hàm\n",
        "Công thức tính đạo hàm theo từng tham số $w_{jk}$ được biểu diễn như sau:\n",
        "\n",
        "\\begin{equation}\n",
        "\\frac{\\partial  J(w_{jk})}{\\partial w_{jk}} = \\frac{1}{m}\\sum_{i=0}^{m-1} x^{(i)}_j (\\hat{y}^{(i)}_k - y^{(i)}_k) \\tag{25}\n",
        "\\end{equation}\n",
        "\n",
        "Với $0 \\le j \\le D-1$. Viết lại dưới dạng ma trận ta có được:\n",
        "\n",
        "\\begin{equation}\n",
        "\\frac{\\partial  J(w)}{\\partial w} = \\frac{1}{m}x^T(\\hat{y} - y) \\tag{26}\n",
        "\\end{equation}\n",
        "\n",
        "### TODO 5: get_grad (10)\n",
        "Các bạn hoàn thành hàm `get_grad` ở phần class SoftmaxClassifier."
      ]
    },
    {
      "cell_type": "markdown",
      "metadata": {
        "id": "UhI9LGbEoGYo",
        "colab_type": "text"
      },
      "source": [
        "## Đề xuất điều kiện dùng vòng lặp huấn luyện\n",
        "\n",
        "Trong bài này, ngoài việc sử dụng `train_x`, `train_y` để huấn luyện, file mẫu còn cung cấp cho các bạn các biến `val_x`, `val_y` để thực hiện việc validation. Toàn bộ các giá trị lỗi validation được lưu trong biến `all_val_loss`. Trong phần này, nhiệm vụ của các bạn là đề xuất ra điều kiện dừng khác (ngoài việc `e` đạt `num_epoch`) trong quá trình huấn luyện. Dựa vào độ lỗi validation, bạn có thể sử dụng các tiêu chí mình tự đề ra để tránh việc quá trình huấn luyện bị overfitting."
      ]
    },
    {
      "cell_type": "markdown",
      "metadata": {
        "id": "pkfTRTpbtXAO",
        "colab_type": "text"
      },
      "source": [
        "### TODO 6: is_stop_training (20)\n",
        "Các bạn hoàn thành hàm `is_stop_training` nhận vào mảng `all_val_loss` và trả về giá trị boolean True hoặc False quyết định có dừng việc huấn luyện không. Nếu loss trên tập validation tăng hơn n (patience) lần liên tiếp thì trả về True, ngược lại thì False."
      ]
    },
    {
      "cell_type": "code",
      "metadata": {
        "id": "xCnG7E4Ifw4j",
        "colab_type": "code",
        "colab": {}
      },
      "source": [
        "# GRADED FUNCTION\n",
        "def is_stop_training(all_val_loss, patience=5):\n",
        "    \"\"\"TODO 6:  is_stop_training\n",
        "    Check whether training need to be stopped\n",
        "\n",
        "    :param all_val_loss: list of all validation loss values during training\n",
        "    \"\"\"\n",
        "    is_stopped = False\n",
        "    ### START CODE HERE ###\n",
        "    num_val_increase = 0\n",
        "    if (len(all_val_loss)<2):\n",
        "        return False\n",
        "    for i in range(len(all_val_loss)-1,0,-1):\n",
        "        if all_val_loss[i] > all_val_loss[i-1]:\n",
        "            num_val_increase += 1\n",
        "        if num_val_increase >= 5:\n",
        "            return True\n",
        "    ### END CODE HERE ###\n",
        "    return is_stopped"
      ],
      "execution_count": null,
      "outputs": []
    },
    {
      "cell_type": "code",
      "metadata": {
        "id": "KN4ZrrNbofm8",
        "colab_type": "code",
        "colab": {}
      },
      "source": [
        "### SANITY CHECK\n",
        "assert is_stop_training([1, 2, 3, 4, 5, 6]) == True, \"Wrong\"\n",
        "assert is_stop_training([1, 2, 3]) == False, \"Wrong\""
      ],
      "execution_count": null,
      "outputs": []
    },
    {
      "cell_type": "markdown",
      "metadata": {
        "id": "IHSHuB-LokPm",
        "colab_type": "text"
      },
      "source": [
        "## Đánh giá mô hình trên dữ liệu test\n",
        "\n",
        "Để đánh giá mô hình phân loại nhiều lớp, ta cần sử dụng một khái niệm gọi là confusion matrix. Giả sử ta có bài toán phân loại 3 lớp, thì confusion matrix có dạng sau:\n",
        "\n",
        "<table>\n",
        "    <th>\n",
        "        <td>Lớp 1</td>\n",
        "        <td>Lớp 2</td>\n",
        "        <td>Lớp 3</td>\n",
        "    </th>\n",
        "    <tr>\n",
        "        <td>Lớp 1</td>\n",
        "        <td>$N_{11}$</td>\n",
        "        <td>$N_{12}$</td>\n",
        "        <td>$N_{13}$</td>\n",
        "    </tr>\n",
        "    <tr>\n",
        "        <td>Lớp 2</td>\n",
        "        <td>$N_{21}$</td>\n",
        "        <td>$N_{22}$</td>\n",
        "        <td>$N_{23}$</td>\n",
        "    </tr>\n",
        "    <tr>\n",
        "        <td>Lớp 3</td>\n",
        "        <td>$N_{31}$</td>\n",
        "        <td>$N_{32}$</td>\n",
        "        <td>$N_{33}$</td>\n",
        "    </tr>\n",
        "</table>\n",
        "\n",
        "Trong đó, $N_{kl}$ là tổng số mẫu thực chất thuộc lớp $k$ và bộ phân loại phân loại thành lớp $l$ chia cho tổng số mẫu trong lớp k. Bộ phân loại càng tốt thì các ô trên đường chéo chính sẽ càng cao hơn so với các ô xung quanh. Khi tiến hành kiểm thử, người ra đề đã tính được confusion matrix như sau:\n",
        "\n",
        "<table>\n",
        "    <tr>\n",
        "        <td>0.93</td>\n",
        "        <td>0</td>\n",
        "        <td>0</td>\n",
        "        <td>0.02</td>\n",
        "        <td>0</td>\n",
        "        <td>0</td>\n",
        "        <td>0.05</td>\n",
        "        <td>0</td>\n",
        "        <td>0</td>\n",
        "        <td>0</td>\n",
        "    </tr>\n",
        "    <tr>\n",
        "        <td>0</td>\n",
        "        <td>0.95</td>\n",
        "        <td>0</td>\n",
        "        <td>0.05</td>\n",
        "        <td>0</td>\n",
        "        <td>0</td>\n",
        "        <td>0</td>\n",
        "        <td>0</td>\n",
        "        <td>0</td>\n",
        "        <td>0</td>\n",
        "    </tr>\n",
        "    <tr>\n",
        "        <td>0.02</td>\n",
        "        <td>0.02</td>\n",
        "        <td>0.59</td>\n",
        "        <td>0.02</td>\n",
        "        <td>0.22</td>\n",
        "        <td>0</td>\n",
        "        <td>0.13</td>\n",
        "        <td>0</td>\n",
        "        <td>0</td>\n",
        "        <td>0</td>\n",
        "    </tr>\n",
        "    <tr>\n",
        "        <td>0.05</td>\n",
        "        <td>0.03</td>\n",
        "        <td>0.03</td>\n",
        "        <td>0.82</td>\n",
        "        <td>0.05</td>\n",
        "        <td>0</td>\n",
        "        <td>0.03</td>\n",
        "        <td>0</td>\n",
        "        <td>0</td>\n",
        "        <td>0</td>\n",
        "    </tr>\n",
        "    <tr>\n",
        "        <td>0</td>\n",
        "        <td>0</td>\n",
        "        <td>0.07</td>\n",
        "        <td>0.05</td>\n",
        "        <td>0.77</td>\n",
        "        <td>0</td>\n",
        "        <td>0.12</td>\n",
        "        <td>0</td>\n",
        "        <td>0</td>\n",
        "        <td>0</td>\n",
        "    </tr>\n",
        "    <tr>\n",
        "        <td>0</td>\n",
        "        <td>0</td>\n",
        "        <td>0</td>\n",
        "        <td>0</td>\n",
        "        <td>0</td>\n",
        "        <td>0.89</td>\n",
        "        <td>0</td>\n",
        "        <td>0.09</td>\n",
        "        <td>0.02</td>\n",
        "        <td>0</td>\n",
        "    </tr>\n",
        "    <tr>\n",
        "        <td>0.21</td>\n",
        "        <td>0</td>\n",
        "        <td>0.08</td>\n",
        "        <td>0.02</td>\n",
        "        <td>0.17</td>\n",
        "        <td>0</td>\n",
        "        <td>0.51</td>\n",
        "        <td>0</td>\n",
        "        <td>0.02</td>\n",
        "        <td>0</td>\n",
        "    </tr>\n",
        "    <tr>\n",
        "        <td>0</td>\n",
        "        <td>0</td>\n",
        "        <td>0</td>\n",
        "        <td>0</td>\n",
        "        <td>0</td>\n",
        "        <td>0.04</td>\n",
        "        <td>0</td>\n",
        "        <td>0.86</td>\n",
        "        <td>0</td>\n",
        "        <td>0.1</td>\n",
        "    </tr>\n",
        "    <tr>\n",
        "        <td>0</td>\n",
        "        <td>0</td>\n",
        "        <td>0</td>\n",
        "        <td>0.02</td>\n",
        "        <td>0</td>\n",
        "        <td>0.04</td>\n",
        "        <td>0</td>\n",
        "        <td>0.02</td>\n",
        "        <td>0.93</td>\n",
        "        <td>0</td>\n",
        "    </tr>\n",
        "    <tr>\n",
        "        <td>0</td>\n",
        "        <td>0</td>\n",
        "        <td>0</td>\n",
        "        <td>0</td>\n",
        "        <td>0</td>\n",
        "        <td>0.02</td>\n",
        "        <td>0</td>\n",
        "        <td>0</td>\n",
        "        <td>0</td>\n",
        "        <td>0.98</td>\n",
        "    </tr>\n",
        "</table>\n",
        "\n",
        "Bạn cần đạt được kết quả tương tự hoặc tốt hơn sau khi hoàn tất bài tập 2 này."
      ]
    },
    {
      "cell_type": "markdown",
      "metadata": {
        "id": "GWTxRxc-ouFq",
        "colab_type": "text"
      },
      "source": [
        "### TODO 7: softmax_test (20)"
      ]
    },
    {
      "cell_type": "code",
      "metadata": {
        "id": "K_NDwfLpohfW",
        "colab_type": "code",
        "colab": {}
      },
      "source": [
        "# GRADED FUNCTION\n",
        "def softmax_test(y_hat, test_y):\n",
        "    \"\"\"TODO 7: test\n",
        "    Compute the confusion matrix based on labels and predicted values \n",
        "\n",
        "    :param classifier: the trained classifier\n",
        "    :param y_hat: predicted probabilites, output of classifier.feed_forward\n",
        "    :param test_y: test labels\n",
        "    \"\"\"\n",
        "\n",
        "    y_hat = np.argmax(y_hat, axis=1)\n",
        "    test_y = np.argmax(test_y, axis=1)\n",
        "    confusion_mat = np.zeros((10,10))\n",
        "    ### START CODE HERE ###\n",
        "    for i in range(10):\n",
        "        class_i_idx = test_y == i\n",
        "        num_class_i = np.sum(class_i_idx)\n",
        "        y_hat_i = y_hat[class_i_idx]\n",
        "        for j in range(10):\n",
        "            confusion_mat[i,j] = 1.0*np.sum(y_hat_i == j)/num_class_i\n",
        "    \n",
        "    ### END CODE HERE ###\n",
        "    return confusion_mat"
      ],
      "execution_count": null,
      "outputs": []
    },
    {
      "cell_type": "code",
      "metadata": {
        "id": "Kgp4cAjEo7PM",
        "colab_type": "code",
        "colab": {}
      },
      "source": [
        "y_hat = np.eye(20, 10)\n",
        "test_y = y_hat > 0.5\n",
        "assert np.trace(softmax_test(y_hat, test_y)) == 10, \"Wrong\""
      ],
      "execution_count": null,
      "outputs": []
    },
    {
      "cell_type": "markdown",
      "metadata": {
        "id": "mP8dZfG0o_pP",
        "colab_type": "text"
      },
      "source": [
        "## Vòng lặp huấn luyện"
      ]
    },
    {
      "cell_type": "code",
      "metadata": {
        "id": "QhINMd-tpCb4",
        "colab_type": "code",
        "colab": {}
      },
      "source": [
        "def plot_softmax_loss(train_loss, val_loss):\n",
        "    plt.figure(1)\n",
        "    plt.clf()\n",
        "    plt.plot(train_loss, color='b')\n",
        "    plt.plot(val_loss, color='g')\n",
        "\n",
        "\n",
        "def draw_weight(w):\n",
        "    label_names = ['T-shirt', 'Trouser', 'Pullover', 'Dress', 'Coat', 'Sandal', 'Shirt', 'Sneaker', 'Bag', 'Ankle boot']\n",
        "    plt.figure(2, figsize=(8, 6))\n",
        "    plt.clf()\n",
        "    w = w[0:(28*28),:].reshape(28, 28, 10)\n",
        "    for i in range(10):\n",
        "        ax = plt.subplot(3, 4, i+1)\n",
        "        plt.imshow(w[:,:,i], interpolation='nearest')\n",
        "        plt.axis('off')\n",
        "        ax.set_title(label_names[i])"
      ],
      "execution_count": null,
      "outputs": []
    },
    {
      "cell_type": "code",
      "metadata": {
        "id": "JJu8r-owo70a",
        "colab_type": "code",
        "colab": {
          "base_uri": "https://localhost:8080/",
          "height": 859
        },
        "outputId": "33dd560d-6a21-4428-b9ed-25fa768ee7a4"
      },
      "source": [
        "#@title Training { display-mode: \"both\" }\n",
        "num_epoch = 10000 #@param {type:\"integer\"}\n",
        "learning_rate = 0.01 #@param {type:\"number\"}\n",
        "momentum_rate = 0.9 #@param {type:\"number\"}\n",
        "epochs_to_draw = 10 #@param {type:\"integer\"}\n",
        "update_weight_method = \"normal\" #@param [\"normal\", \"momentum\"]\n",
        "\n",
        "np.random.seed(2020)\n",
        "\n",
        "# Load data from file\n",
        "# Make sure that fashion-mnist/*.gz files is in data/\n",
        "train_x, train_y, val_x, val_y, test_x, test_y = get_mnist_data()\n",
        "num_train = train_x.shape[0]\n",
        "num_val = val_x.shape[0]\n",
        "num_test = test_x.shape[0]  \n",
        "\n",
        "# Convert label lists to one-hot (one-of-k) encoding\n",
        "train_y = create_one_hot(train_y)\n",
        "val_y = create_one_hot(val_y)\n",
        "test_y = create_one_hot(test_y)\n",
        "\n",
        "# Normalize our data\n",
        "train_x, val_x, test_x = normalize(train_x, val_x, test_x)\n",
        "\n",
        "# Pad 1 as the last feature of train_x and test_x\n",
        "train_x = add_one(train_x) \n",
        "val_x = add_one(val_x)\n",
        "test_x = add_one(test_x)\n",
        "\n",
        "# Create classifier\n",
        "num_feature = train_x.shape[1]\n",
        "dec_classifier = SoftmaxClassifier((num_feature, 10))\n",
        "momentum = np.zeros_like(dec_classifier.w)\n",
        "\n",
        "# Define hyper-parameters and train-related parameters\n",
        "all_train_loss = []\n",
        "all_val_loss = []\n",
        "plt.ion()\n",
        "\n",
        "for e in range(num_epoch):    \n",
        "    train_y_hat = dec_classifier.feed_forward(train_x)\n",
        "    val_y_hat = dec_classifier.feed_forward(val_x)\n",
        "\n",
        "    train_loss = dec_classifier.compute_loss(train_y, train_y_hat)\n",
        "    val_loss = dec_classifier.compute_loss(val_y, val_y_hat)\n",
        "\n",
        "    grad = dec_classifier.get_grad(train_x, train_y, train_y_hat)\n",
        "\n",
        "    # dec_classifier.numerical_check(train_x, train_y, grad)\n",
        "    # Updating weight: choose either normal GD or GD with momentum\n",
        "    if update_weight_method == \"normal\":\n",
        "        dec_classifier.update_weight(grad, learning_rate)\n",
        "    else:\n",
        "        dec_classifier.update_weight_momentum(grad, learning_rate, momentum, momentum_rate)\n",
        "\n",
        "    all_train_loss.append(train_loss) \n",
        "    all_val_loss.append(val_loss)\n",
        "    \n",
        "    if is_stop_training(all_val_loss):\n",
        "        break\n",
        "\n",
        "    if (e % epochs_to_draw == epochs_to_draw-1):\n",
        "        from IPython.display import clear_output\n",
        "        clear_output(wait=True)\n",
        "        plot_softmax_loss(all_train_loss, all_val_loss)\n",
        "        draw_weight(dec_classifier.w)\n",
        "        plt.show()\n",
        "        plt.pause(0.1) \n",
        "        print(\"Epoch %d: train loss: %.5f || val loss: %.5f\" % (e+1, train_loss, val_loss))\n",
        "\n",
        "y_hat = dec_classifier.feed_forward(test_x)\n",
        "np.set_printoptions(precision=2)\n",
        "confusion_mat = softmax_test(y_hat, test_y)\n",
        "print('Confusion matrix:')\n",
        "print(confusion_mat)\n",
        "print('Diagonal values:')\n",
        "print(confusion_mat.flatten()[0::11])"
      ],
      "execution_count": null,
      "outputs": [
        {
          "output_type": "display_data",
          "data": {
            "image/png": "[encoded data removed]",
            "text/plain": [
              "<Figure size 432x288 with 1 Axes>"
            ]
          },
          "metadata": {
            "tags": [],
            "needs_background": "light"
          }
        },
        {
          "output_type": "display_data",
          "data": {
            "image/png": "[encoded data removed]",
            "text/plain": [
              "<Figure size 576x432 with 10 Axes>"
            ]
          },
          "metadata": {
            "tags": [],
            "needs_background": "light"
          }
        },
        {
          "output_type": "stream",
          "text": [
            "Epoch 3400: train loss: 0.28363 || val loss: 0.54099\n",
            "Confusion matrix:\n",
            "[[0.93 0.   0.02 0.04 0.   0.   0.02 0.   0.   0.  ]\n",
            " [0.02 0.95 0.   0.03 0.   0.   0.   0.   0.   0.  ]\n",
            " [0.02 0.   0.61 0.04 0.22 0.   0.11 0.   0.   0.  ]\n",
            " [0.07 0.05 0.   0.8  0.03 0.   0.05 0.   0.   0.  ]\n",
            " [0.   0.   0.09 0.05 0.74 0.   0.12 0.   0.   0.  ]\n",
            " [0.   0.   0.   0.   0.   0.92 0.   0.08 0.   0.  ]\n",
            " [0.23 0.   0.09 0.02 0.19 0.   0.45 0.   0.02 0.  ]\n",
            " [0.   0.   0.   0.   0.   0.06 0.   0.84 0.   0.1 ]\n",
            " [0.   0.   0.   0.02 0.02 0.04 0.   0.   0.93 0.  ]\n",
            " [0.   0.   0.   0.   0.   0.02 0.   0.   0.   0.98]]\n",
            "Diagonal values:\n",
            "[0.93 0.95 0.61 0.8  0.74 0.92 0.45 0.84 0.93 0.98]\n"
          ],
          "name": "stdout"
        }
      ]
    },
    {
      "cell_type": "markdown",
      "metadata": {
        "id": "xNw0WgOopprp",
        "colab_type": "text"
      },
      "source": [
        "## Class SoftmaxRegressionTF bằng Tensorflow\n",
        "\n",
        "Tại đây, các bạn cần định nghĩa mô hình SoftmaxRegressionTF."
      ]
    },
    {
      "cell_type": "code",
      "metadata": {
        "id": "uforIT1NpG08",
        "colab_type": "code",
        "colab": {}
      },
      "source": [
        "# GRADED FUNCTION\n",
        "class SoftmaxRegressionTF(tf.keras.Model): \n",
        "    def __init__(self, num_class):\n",
        "        super(SoftmaxRegressionTF, self).__init__()\n",
        "        # TODO 8: init all weights \n",
        "        ### START CODE HERE ###\n",
        "       # self.w = tf.Variable(num_class , dtype=tf.float32)\n",
        "       # kernel_initializer = tf.keras.initializers.RandomNormal(0, np.sqrt(2./np.sum(num_class)), seed=2020)\n",
        "        #self.w = tf.Variable(kernel_initializer, name = \"w\" , dtype=tf.float32)\n",
        "        kernel_initializer=tf.keras.initializers.RandomNormal(seed=2020)\n",
        "        w_shape = (kernel_initializer,num_class)\n",
        "        self.w = tf.Variable(np.random.normal(0, np.sqrt(2./np.sum(w_shape)), w_shape) , name = \"w\" , dtype=tf.float32)\n",
        "        #self.w = tf.Variable(tf.keras.initializers.RandomNormal(0, np.sqrt(2./np.sum(values)), values) , name = \"w\" , dtype=tf.float32)\n",
        "        ### END CODE HERE ###\n",
        "\n",
        "    def call(self, inputs, training=None, mask=None):\n",
        "        # TODO 8: implement your feedforward \n",
        "        ### START CODE HERE ###\n",
        "        output = tf.matmul(self.inputs, self.w)\n",
        "        output_max = tf.reduce_max(output, 1, True)\n",
        "        output -= output_max\n",
        "        exp_output = tf.exp(output)\n",
        "        output = exp_outputd / tf.reduce_sum(exp_output, 1, True)\n",
        "        ### END CODE HERE ###\n",
        "        try:\n",
        "          output = tf.nn.softmax(output)\n",
        "        except: # if softmax op does not exist on the gpu\n",
        "          with tf.device('/cpu:0'):\n",
        "              output = tf.nn.softmax(output) \n",
        "\n",
        "        return output"
      ],
      "execution_count": null,
      "outputs": []
    },
    {
      "cell_type": "code",
      "metadata": {
        "id": "YCYLggEQqXNX",
        "colab_type": "code",
        "colab": {}
      },
      "source": [
        "### SANITY CHECK\n",
        "logistic_regressor = SoftmaxRegressionTF(10)\n",
        "dummy_x = tf.zeros((1, 13))\n",
        "assert logistic_regressor(dummy_x).numpy().sum() == 1, \"Wrong\""
      ],
      "execution_count": null,
      "outputs": []
    },
    {
      "cell_type": "markdown",
      "metadata": {
        "id": "9Fbjy5EMqbol",
        "colab_type": "text"
      },
      "source": [
        "### TODO 8: init (10) + call (10)\n",
        "Các bạn cần khởi tạo tất cả các trọng số ở hàm `init` và `call` của lớp `SoftmaxRegressionTF`. Để tiện cho việc chấm bài, các bạn vui lòng set `kernel_initializer=tf.keras.initializers.RandomNormal(seed=2020)` khi init weights. Nếu bạn không cài đặt `kernel_initializer` như yêu cầu, bạn sẽ bị mất điểm cho TODO 8 này."
      ]
    },
    {
      "cell_type": "markdown",
      "metadata": {
        "id": "xkX_B6GNrbrl",
        "colab_type": "text"
      },
      "source": [
        "## Huấn luyện với tensorflow"
      ]
    },
    {
      "cell_type": "code",
      "metadata": {
        "id": "6yiZR-QvrRC2",
        "colab_type": "code",
        "colab": {
          "base_uri": "https://localhost:8080/",
          "height": 1000
        },
        "outputId": "1b784930-1949-4d9e-92f6-2d4708ab6f32"
      },
      "source": [
        "#@title Training { display-mode: \"both\" }\n",
        "num_epoch = 100 #@param {type:\"integer\"}\n",
        "learning_rate = 0.001 #@param {type:\"number\"}\n",
        "batch_size = 32\n",
        "num_classes = 10\n",
        "\n",
        "tf.random.set_seed(2020)\n",
        "\n",
        "# Load data from file\n",
        "# Make sure that fashion-mnist/*.gz files is in data/\n",
        "train_x, train_y, val_x, val_y, test_x, test_y = get_mnist_data()\n",
        "num_train = train_x.shape[0]\n",
        "num_val = val_x.shape[0]\n",
        "num_test = test_x.shape[0]  \n",
        "\n",
        "\n",
        "# Convert label lists to one-hot (one-of-k) encoding\n",
        "train_y = create_one_hot(train_y)\n",
        "val_y = create_one_hot(val_y)\n",
        "test_y = create_one_hot(test_y)\n",
        "\n",
        "# Normalize our data\n",
        "train_x, val_x, test_x = normalize(train_x, val_x, test_x)\n",
        "\n",
        "device = '/cpu:0' if len(tf.config.experimental.list_physical_devices('GPU')) == 0 else '/gpu:0'\n",
        "\n",
        "with tf.device(device):\n",
        "    # build model and optimizer\n",
        "    model = SoftmaxRegressionTF(num_classes)\n",
        "    model.compile(optimizer=tf.optimizers.Adam(learning_rate), loss='binary_crossentropy',\n",
        "                  metrics=['accuracy'])\n",
        "    \n",
        "\n",
        "    # train\n",
        "    model.fit(train_x, train_y, batch_size=batch_size, epochs=num_epoch,\n",
        "              validation_data=(val_x, val_y), verbose=2)\n",
        "\n",
        "    # evaluate on test set\n",
        "    scores = model.evaluate(test_x, test_y, 32, verbose=2)\n",
        "    \n",
        "    y_hat = model.predict(test_x)\n",
        "\n",
        "\n",
        "    confusion_mat = softmax_test(y_hat, test_y)\n",
        "    print('Confusion matrix:')\n",
        "    print(confusion_mat)\n",
        "    print('Diagonal values:')\n",
        "    print(confusion_mat.flatten()[0::11])"
      ],
      "execution_count": null,
      "outputs": [
        {
          "output_type": "stream",
          "text": [
            "Reading fashion MNIST data...\n",
            "Epoch 1/100\n",
            "79/79 - 0s - loss: 0.1712 - accuracy: 0.6228 - val_loss: 0.1290 - val_accuracy: 0.7200\n",
            "Epoch 2/100\n",
            "79/79 - 0s - loss: 0.1085 - accuracy: 0.7824 - val_loss: 0.1137 - val_accuracy: 0.7600\n",
            "Epoch 3/100\n",
            "79/79 - 0s - loss: 0.0945 - accuracy: 0.8168 - val_loss: 0.1104 - val_accuracy: 0.7580\n",
            "Epoch 4/100\n",
            "79/79 - 0s - loss: 0.0861 - accuracy: 0.8364 - val_loss: 0.1003 - val_accuracy: 0.7940\n",
            "Epoch 5/100\n",
            "79/79 - 0s - loss: 0.0810 - accuracy: 0.8444 - val_loss: 0.0975 - val_accuracy: 0.7920\n",
            "Epoch 6/100\n",
            "79/79 - 0s - loss: 0.0776 - accuracy: 0.8508 - val_loss: 0.1031 - val_accuracy: 0.7860\n",
            "Epoch 7/100\n",
            "79/79 - 0s - loss: 0.0730 - accuracy: 0.8600 - val_loss: 0.0963 - val_accuracy: 0.8040\n",
            "Epoch 8/100\n",
            "79/79 - 0s - loss: 0.0697 - accuracy: 0.8708 - val_loss: 0.0988 - val_accuracy: 0.8100\n",
            "Epoch 9/100\n",
            "79/79 - 0s - loss: 0.0674 - accuracy: 0.8648 - val_loss: 0.1024 - val_accuracy: 0.7880\n",
            "Epoch 10/100\n",
            "79/79 - 0s - loss: 0.0642 - accuracy: 0.8780 - val_loss: 0.1008 - val_accuracy: 0.7840\n",
            "Epoch 11/100\n",
            "79/79 - 0s - loss: 0.0648 - accuracy: 0.8716 - val_loss: 0.0998 - val_accuracy: 0.7900\n",
            "Epoch 12/100\n",
            "79/79 - 0s - loss: 0.0605 - accuracy: 0.8856 - val_loss: 0.1029 - val_accuracy: 0.8040\n",
            "Epoch 13/100\n",
            "79/79 - 0s - loss: 0.0574 - accuracy: 0.8900 - val_loss: 0.0942 - val_accuracy: 0.8180\n",
            "Epoch 14/100\n",
            "79/79 - 0s - loss: 0.0569 - accuracy: 0.8912 - val_loss: 0.1065 - val_accuracy: 0.7900\n",
            "Epoch 15/100\n",
            "79/79 - 0s - loss: 0.0569 - accuracy: 0.8920 - val_loss: 0.0997 - val_accuracy: 0.7920\n",
            "Epoch 16/100\n",
            "79/79 - 0s - loss: 0.0558 - accuracy: 0.8968 - val_loss: 0.0998 - val_accuracy: 0.7880\n",
            "Epoch 17/100\n",
            "79/79 - 0s - loss: 0.0589 - accuracy: 0.8876 - val_loss: 0.0977 - val_accuracy: 0.8060\n",
            "Epoch 18/100\n",
            "79/79 - 0s - loss: 0.0510 - accuracy: 0.9060 - val_loss: 0.0956 - val_accuracy: 0.8180\n",
            "Epoch 19/100\n",
            "79/79 - 0s - loss: 0.0495 - accuracy: 0.9128 - val_loss: 0.0988 - val_accuracy: 0.8140\n",
            "Epoch 20/100\n",
            "79/79 - 0s - loss: 0.0493 - accuracy: 0.9124 - val_loss: 0.0985 - val_accuracy: 0.7960\n",
            "Epoch 21/100\n",
            "79/79 - 0s - loss: 0.0520 - accuracy: 0.9044 - val_loss: 0.0982 - val_accuracy: 0.8060\n",
            "Epoch 22/100\n",
            "79/79 - 0s - loss: 0.0471 - accuracy: 0.9136 - val_loss: 0.0993 - val_accuracy: 0.7980\n",
            "Epoch 23/100\n",
            "79/79 - 0s - loss: 0.0476 - accuracy: 0.9164 - val_loss: 0.1002 - val_accuracy: 0.8020\n",
            "Epoch 24/100\n",
            "79/79 - 0s - loss: 0.0469 - accuracy: 0.9120 - val_loss: 0.0963 - val_accuracy: 0.8140\n",
            "Epoch 25/100\n",
            "79/79 - 0s - loss: 0.0443 - accuracy: 0.9220 - val_loss: 0.1003 - val_accuracy: 0.8060\n",
            "Epoch 26/100\n",
            "79/79 - 0s - loss: 0.0444 - accuracy: 0.9212 - val_loss: 0.1009 - val_accuracy: 0.8060\n",
            "Epoch 27/100\n",
            "79/79 - 0s - loss: 0.0443 - accuracy: 0.9244 - val_loss: 0.1060 - val_accuracy: 0.7860\n",
            "Epoch 28/100\n",
            "79/79 - 0s - loss: 0.0431 - accuracy: 0.9308 - val_loss: 0.1010 - val_accuracy: 0.8040\n",
            "Epoch 29/100\n",
            "79/79 - 0s - loss: 0.0423 - accuracy: 0.9248 - val_loss: 0.1001 - val_accuracy: 0.8040\n",
            "Epoch 30/100\n",
            "79/79 - 0s - loss: 0.0403 - accuracy: 0.9324 - val_loss: 0.1042 - val_accuracy: 0.7960\n",
            "Epoch 31/100\n",
            "79/79 - 0s - loss: 0.0411 - accuracy: 0.9276 - val_loss: 0.1018 - val_accuracy: 0.8060\n",
            "Epoch 32/100\n",
            "79/79 - 0s - loss: 0.0392 - accuracy: 0.9328 - val_loss: 0.1005 - val_accuracy: 0.8120\n",
            "Epoch 33/100\n",
            "79/79 - 0s - loss: 0.0383 - accuracy: 0.9344 - val_loss: 0.1028 - val_accuracy: 0.8080\n",
            "Epoch 34/100\n",
            "79/79 - 0s - loss: 0.0400 - accuracy: 0.9264 - val_loss: 0.1057 - val_accuracy: 0.8000\n",
            "Epoch 35/100\n",
            "79/79 - 0s - loss: 0.0381 - accuracy: 0.9376 - val_loss: 0.1038 - val_accuracy: 0.8040\n",
            "Epoch 36/100\n",
            "79/79 - 0s - loss: 0.0372 - accuracy: 0.9396 - val_loss: 0.1030 - val_accuracy: 0.7980\n",
            "Epoch 37/100\n",
            "79/79 - 0s - loss: 0.0365 - accuracy: 0.9408 - val_loss: 0.1021 - val_accuracy: 0.8020\n",
            "Epoch 38/100\n",
            "79/79 - 0s - loss: 0.0355 - accuracy: 0.9412 - val_loss: 0.1053 - val_accuracy: 0.8060\n",
            "Epoch 39/100\n",
            "79/79 - 0s - loss: 0.0360 - accuracy: 0.9368 - val_loss: 0.1028 - val_accuracy: 0.8060\n",
            "Epoch 40/100\n",
            "79/79 - 0s - loss: 0.0353 - accuracy: 0.9380 - val_loss: 0.1054 - val_accuracy: 0.7960\n",
            "Epoch 41/100\n",
            "79/79 - 0s - loss: 0.0351 - accuracy: 0.9380 - val_loss: 0.1141 - val_accuracy: 0.7860\n",
            "Epoch 42/100\n",
            "79/79 - 0s - loss: 0.0364 - accuracy: 0.9392 - val_loss: 0.1039 - val_accuracy: 0.7940\n",
            "Epoch 43/100\n",
            "79/79 - 0s - loss: 0.0351 - accuracy: 0.9436 - val_loss: 0.1043 - val_accuracy: 0.7980\n",
            "Epoch 44/100\n",
            "79/79 - 0s - loss: 0.0325 - accuracy: 0.9448 - val_loss: 0.1081 - val_accuracy: 0.8040\n",
            "Epoch 45/100\n",
            "79/79 - 0s - loss: 0.0346 - accuracy: 0.9400 - val_loss: 0.1063 - val_accuracy: 0.8040\n",
            "Epoch 46/100\n",
            "79/79 - 0s - loss: 0.0375 - accuracy: 0.9368 - val_loss: 0.1064 - val_accuracy: 0.7960\n",
            "Epoch 47/100\n",
            "79/79 - 0s - loss: 0.0339 - accuracy: 0.9452 - val_loss: 0.1090 - val_accuracy: 0.7960\n",
            "Epoch 48/100\n",
            "79/79 - 0s - loss: 0.0317 - accuracy: 0.9504 - val_loss: 0.1065 - val_accuracy: 0.8000\n",
            "Epoch 49/100\n",
            "79/79 - 0s - loss: 0.0315 - accuracy: 0.9488 - val_loss: 0.1099 - val_accuracy: 0.7920\n",
            "Epoch 50/100\n",
            "79/79 - 0s - loss: 0.0324 - accuracy: 0.9488 - val_loss: 0.1097 - val_accuracy: 0.8100\n",
            "Epoch 51/100\n",
            "79/79 - 0s - loss: 0.0316 - accuracy: 0.9468 - val_loss: 0.1089 - val_accuracy: 0.8060\n",
            "Epoch 52/100\n",
            "79/79 - 0s - loss: 0.0303 - accuracy: 0.9488 - val_loss: 0.1094 - val_accuracy: 0.7980\n",
            "Epoch 53/100\n",
            "79/79 - 0s - loss: 0.0293 - accuracy: 0.9552 - val_loss: 0.1082 - val_accuracy: 0.8000\n",
            "Epoch 54/100\n",
            "79/79 - 0s - loss: 0.0295 - accuracy: 0.9516 - val_loss: 0.1160 - val_accuracy: 0.8000\n",
            "Epoch 55/100\n",
            "79/79 - 0s - loss: 0.0283 - accuracy: 0.9556 - val_loss: 0.1095 - val_accuracy: 0.8000\n",
            "Epoch 56/100\n",
            "79/79 - 0s - loss: 0.0285 - accuracy: 0.9576 - val_loss: 0.1108 - val_accuracy: 0.8000\n",
            "Epoch 57/100\n",
            "79/79 - 0s - loss: 0.0286 - accuracy: 0.9544 - val_loss: 0.1126 - val_accuracy: 0.7960\n",
            "Epoch 58/100\n",
            "79/79 - 0s - loss: 0.0278 - accuracy: 0.9564 - val_loss: 0.1135 - val_accuracy: 0.8020\n",
            "Epoch 59/100\n",
            "79/79 - 0s - loss: 0.0271 - accuracy: 0.9600 - val_loss: 0.1182 - val_accuracy: 0.7940\n",
            "Epoch 60/100\n",
            "79/79 - 0s - loss: 0.0283 - accuracy: 0.9556 - val_loss: 0.1155 - val_accuracy: 0.7940\n",
            "Epoch 61/100\n",
            "79/79 - 0s - loss: 0.0301 - accuracy: 0.9512 - val_loss: 0.1125 - val_accuracy: 0.7960\n",
            "Epoch 62/100\n",
            "79/79 - 0s - loss: 0.0264 - accuracy: 0.9592 - val_loss: 0.1219 - val_accuracy: 0.7920\n",
            "Epoch 63/100\n",
            "79/79 - 0s - loss: 0.0280 - accuracy: 0.9556 - val_loss: 0.1151 - val_accuracy: 0.7980\n",
            "Epoch 64/100\n",
            "79/79 - 0s - loss: 0.0267 - accuracy: 0.9564 - val_loss: 0.1151 - val_accuracy: 0.8000\n",
            "Epoch 65/100\n",
            "79/79 - 0s - loss: 0.0259 - accuracy: 0.9600 - val_loss: 0.1187 - val_accuracy: 0.7860\n",
            "Epoch 66/100\n",
            "79/79 - 0s - loss: 0.0254 - accuracy: 0.9612 - val_loss: 0.1148 - val_accuracy: 0.8000\n",
            "Epoch 67/100\n",
            "79/79 - 0s - loss: 0.0245 - accuracy: 0.9636 - val_loss: 0.1169 - val_accuracy: 0.8020\n",
            "Epoch 68/100\n",
            "79/79 - 0s - loss: 0.0262 - accuracy: 0.9608 - val_loss: 0.1213 - val_accuracy: 0.7980\n",
            "Epoch 69/100\n",
            "79/79 - 0s - loss: 0.0247 - accuracy: 0.9620 - val_loss: 0.1259 - val_accuracy: 0.7800\n",
            "Epoch 70/100\n",
            "79/79 - 0s - loss: 0.0256 - accuracy: 0.9616 - val_loss: 0.1196 - val_accuracy: 0.7980\n",
            "Epoch 71/100\n",
            "79/79 - 0s - loss: 0.0237 - accuracy: 0.9672 - val_loss: 0.1173 - val_accuracy: 0.7940\n",
            "Epoch 72/100\n",
            "79/79 - 0s - loss: 0.0228 - accuracy: 0.9684 - val_loss: 0.1189 - val_accuracy: 0.8000\n",
            "Epoch 73/100\n",
            "79/79 - 0s - loss: 0.0236 - accuracy: 0.9652 - val_loss: 0.1222 - val_accuracy: 0.7900\n",
            "Epoch 74/100\n",
            "79/79 - 0s - loss: 0.0232 - accuracy: 0.9676 - val_loss: 0.1210 - val_accuracy: 0.7920\n",
            "Epoch 75/100\n",
            "79/79 - 0s - loss: 0.0222 - accuracy: 0.9700 - val_loss: 0.1212 - val_accuracy: 0.7880\n",
            "Epoch 76/100\n",
            "79/79 - 0s - loss: 0.0235 - accuracy: 0.9648 - val_loss: 0.1223 - val_accuracy: 0.7980\n",
            "Epoch 77/100\n",
            "79/79 - 0s - loss: 0.0227 - accuracy: 0.9672 - val_loss: 0.1219 - val_accuracy: 0.7940\n",
            "Epoch 78/100\n",
            "79/79 - 0s - loss: 0.0240 - accuracy: 0.9644 - val_loss: 0.1185 - val_accuracy: 0.7940\n",
            "Epoch 79/100\n",
            "79/79 - 0s - loss: 0.0246 - accuracy: 0.9608 - val_loss: 0.1236 - val_accuracy: 0.7880\n",
            "Epoch 80/100\n",
            "79/79 - 0s - loss: 0.0241 - accuracy: 0.9596 - val_loss: 0.1217 - val_accuracy: 0.8020\n",
            "Epoch 81/100\n",
            "79/79 - 0s - loss: 0.0216 - accuracy: 0.9708 - val_loss: 0.1215 - val_accuracy: 0.8000\n",
            "Epoch 82/100\n",
            "79/79 - 0s - loss: 0.0216 - accuracy: 0.9700 - val_loss: 0.1228 - val_accuracy: 0.7960\n",
            "Epoch 83/100\n",
            "79/79 - 0s - loss: 0.0209 - accuracy: 0.9728 - val_loss: 0.1228 - val_accuracy: 0.7920\n",
            "Epoch 84/100\n",
            "79/79 - 0s - loss: 0.0220 - accuracy: 0.9660 - val_loss: 0.1244 - val_accuracy: 0.7980\n",
            "Epoch 85/100\n",
            "79/79 - 0s - loss: 0.0218 - accuracy: 0.9668 - val_loss: 0.1215 - val_accuracy: 0.8060\n",
            "Epoch 86/100\n",
            "79/79 - 0s - loss: 0.0208 - accuracy: 0.9692 - val_loss: 0.1268 - val_accuracy: 0.7800\n",
            "Epoch 87/100\n",
            "79/79 - 0s - loss: 0.0223 - accuracy: 0.9648 - val_loss: 0.1259 - val_accuracy: 0.7940\n",
            "Epoch 88/100\n",
            "79/79 - 0s - loss: 0.0226 - accuracy: 0.9628 - val_loss: 0.1246 - val_accuracy: 0.7980\n",
            "Epoch 89/100\n",
            "79/79 - 0s - loss: 0.0205 - accuracy: 0.9680 - val_loss: 0.1260 - val_accuracy: 0.7880\n",
            "Epoch 90/100\n",
            "79/79 - 0s - loss: 0.0197 - accuracy: 0.9720 - val_loss: 0.1274 - val_accuracy: 0.8000\n",
            "Epoch 91/100\n",
            "79/79 - 0s - loss: 0.0192 - accuracy: 0.9728 - val_loss: 0.1257 - val_accuracy: 0.8060\n",
            "Epoch 92/100\n",
            "79/79 - 0s - loss: 0.0186 - accuracy: 0.9740 - val_loss: 0.1259 - val_accuracy: 0.7900\n",
            "Epoch 93/100\n",
            "79/79 - 0s - loss: 0.0207 - accuracy: 0.9700 - val_loss: 0.1281 - val_accuracy: 0.7980\n",
            "Epoch 94/100\n",
            "79/79 - 0s - loss: 0.0186 - accuracy: 0.9748 - val_loss: 0.1288 - val_accuracy: 0.7820\n",
            "Epoch 95/100\n",
            "79/79 - 0s - loss: 0.0188 - accuracy: 0.9716 - val_loss: 0.1259 - val_accuracy: 0.7940\n",
            "Epoch 96/100\n",
            "79/79 - 0s - loss: 0.0197 - accuracy: 0.9724 - val_loss: 0.1273 - val_accuracy: 0.7940\n",
            "Epoch 97/100\n",
            "79/79 - 0s - loss: 0.0194 - accuracy: 0.9700 - val_loss: 0.1339 - val_accuracy: 0.7920\n",
            "Epoch 98/100\n",
            "79/79 - 0s - loss: 0.0183 - accuracy: 0.9748 - val_loss: 0.1307 - val_accuracy: 0.7840\n",
            "Epoch 99/100\n",
            "79/79 - 0s - loss: 0.0179 - accuracy: 0.9792 - val_loss: 0.1304 - val_accuracy: 0.7940\n",
            "Epoch 100/100\n",
            "79/79 - 0s - loss: 0.0185 - accuracy: 0.9748 - val_loss: 0.1345 - val_accuracy: 0.7880\n",
            "16/16 - 0s - loss: 0.1164 - accuracy: 0.8140\n",
            "Confusion matrix:\n",
            "[[0.89 0.04 0.   0.02 0.   0.   0.05 0.   0.   0.  ]\n",
            " [0.   0.98 0.   0.02 0.   0.   0.   0.   0.   0.  ]\n",
            " [0.02 0.04 0.61 0.   0.22 0.   0.11 0.   0.   0.  ]\n",
            " [0.1  0.03 0.03 0.8  0.03 0.   0.03 0.   0.   0.  ]\n",
            " [0.   0.05 0.07 0.   0.77 0.   0.12 0.   0.   0.  ]\n",
            " [0.   0.   0.   0.   0.   0.87 0.   0.11 0.02 0.  ]\n",
            " [0.25 0.   0.09 0.02 0.15 0.   0.47 0.   0.02 0.  ]\n",
            " [0.   0.   0.   0.   0.   0.06 0.   0.84 0.   0.1 ]\n",
            " [0.   0.   0.   0.02 0.04 0.04 0.   0.02 0.89 0.  ]\n",
            " [0.   0.   0.   0.   0.   0.02 0.   0.   0.   0.98]]\n",
            "Diagonal values:\n",
            "[0.89 0.98 0.61 0.8  0.77 0.87 0.47 0.84 0.89 0.98]\n"
          ],
          "name": "stdout"
        }
      ]
    }
  ]
}